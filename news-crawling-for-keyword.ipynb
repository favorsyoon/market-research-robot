{
 "cells": [
  {
   "cell_type": "code",
   "execution_count": 6,
   "metadata": {},
   "outputs": [],
   "source": [
    "import time #time.sleep()쓰기 위함 \n",
    "from selenium import webdriver  #webdriver 쓰기 위함 \n",
    "from selenium.webdriver.chrome.options import Options  #이 코드라인이 없으면, 에러가 나온다. \n",
    "from selenium.webdriver.common.by import By\n",
    "\n",
    "\n",
    "# 크롬 옵션 headless 모드로 실행\n",
    "options = Options()\n",
    "options.add_argument('--incognito')\n",
    "options.add_argument('--window-size=1080,1080')\n",
    "\n",
    "\n",
    "# 크롬 드라이버 경로 지정\n",
    "driver_path = 'chromedriver'\n",
    "\n",
    "# 크롬 드라이버 객체 생성\n",
    "browser = webdriver.Chrome(executable_path=driver_path, options=options)"
   ]
  },
  {
   "cell_type": "code",
   "execution_count": 10,
   "metadata": {},
   "outputs": [
    {
     "name": "stdout",
     "output_type": "stream",
     "text": [
      "https://search.naver.com/search.naver?where=news&query=윤석열 방미&sm=tab_opt&sort=0&photo=0&field=0&pd=4&ds=&de=&docid=&related=0&mynews=0&office_type=0&office_section_code=0&news_office_checked=&nso=so%3Ar%2Cp%3A1d&is_sug_officeid=0\n"
     ]
    }
   ],
   "source": [
    "# 1일간의 키워드 검색\n",
    "keyword_search = input(\"검색하고자하는 키워드를 입력하세요.\")\n",
    "\n",
    "keyword_search_url_1_day = \"https://search.naver.com/search.naver?where=news&query={}&sm=tab_opt&sort=0&photo=0&field=0&pd=4&ds=&de=&docid=&related=0&mynews=0&office_type=0&office_section_code=0&news_office_checked=&nso=so%3Ar%2Cp%3A1d&is_sug_officeid=0\"\n",
    "\n",
    "result = keyword_search_url_1_day.format(keyword_search)\n",
    "print(result)\n",
    "browser.get(result)\n",
    "time.sleep(2)\n"
   ]
  },
  {
   "cell_type": "code",
   "execution_count": 17,
   "metadata": {},
   "outputs": [
    {
     "name": "stdout",
     "output_type": "stream",
     "text": [
      "프레시안언론사\n"
     ]
    }
   ],
   "source": [
    "data = browser.find_element(By.CLASS_NAME, 'news_wrap')\n",
    "writer_source = data.find_element(By.CLASS_NAME, 'info_group').text.split(' ')[0]\n",
    "print(writer_source)\n"
   ]
  }
 ],
 "metadata": {
  "kernelspec": {
   "display_name": "base",
   "language": "python",
   "name": "python3"
  },
  "language_info": {
   "codemirror_mode": {
    "name": "ipython",
    "version": 3
   },
   "file_extension": ".py",
   "mimetype": "text/x-python",
   "name": "python",
   "nbconvert_exporter": "python",
   "pygments_lexer": "ipython3",
   "version": "3.10.9"
  },
  "orig_nbformat": 4
 },
 "nbformat": 4,
 "nbformat_minor": 2
}
